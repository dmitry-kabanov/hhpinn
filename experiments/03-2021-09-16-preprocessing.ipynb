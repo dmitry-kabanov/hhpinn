{
 "cells": [
  {
   "cell_type": "code",
   "execution_count": 1,
   "id": "a9d6c8c7-f56c-41c0-a52e-f7172dd6baec",
   "metadata": {},
   "outputs": [
    {
     "data": {
      "text/plain": [
       "'/Users/dima/wrk/rwth10-hodge-helmholtz-pinn/tasks/03-2021-09-16-preprocessing'"
      ]
     },
     "execution_count": 1,
     "metadata": {},
     "output_type": "execute_result"
    }
   ],
   "source": [
    "%pwd"
   ]
  },
  {
   "cell_type": "markdown",
   "id": "3d780ebd-9c9e-44a1-a10a-a002ec6823fa",
   "metadata": {},
   "source": [
    "# 03-2021-09-16-preprocessing"
   ]
  },
  {
   "cell_type": "markdown",
   "id": "b58f8881-2ec6-4fbf-9ff0-eae870e39c1a",
   "metadata": {},
   "source": [
    "## Setup"
   ]
  },
  {
   "cell_type": "code",
   "execution_count": 1,
   "id": "1e62afff-5d4c-4b3a-aac0-a8afe587d4d4",
   "metadata": {},
   "outputs": [],
   "source": [
    "# %load code/experiments/03-2021-09-16-preprocessing.py\n",
    "#!/usr/bin/env python\n",
    "%matplotlib inline\n",
    "import argparse\n",
    "import os\n",
    "\n",
    "import matplotlib.pyplot as plt\n",
    "import numpy as np\n",
    "\n",
    "import hhpinn\n",
    "\n",
    "from typing import Dict, List\n",
    "\n",
    "from hhpinn import HodgeHelmholtzPINN\n",
    "from hhpinn.utils import render_figure\n",
    "\n",
    "\n",
    "OUTDIR = \"_output\"\n",
    "\n",
    "CONFIGS = [\n",
    "    [10],\n",
    "    [20],\n",
    "    [50],\n",
    "    [100],\n",
    "    [1000],\n",
    "]\n",
    "\n",
    "RESULT_MODEL_TEMPLATE = os.path.join(OUTDIR, \"model-{:d}\")"
   ]
  },
  {
   "cell_type": "markdown",
   "id": "91070b5c-03a7-4d93-9581-06ad5dd02b9f",
   "metadata": {},
   "source": [
    "## Compute"
   ]
  },
  {
   "cell_type": "code",
   "execution_count": 2,
   "id": "eff09e34-c838-4803-9747-9d34a704229e",
   "metadata": {},
   "outputs": [],
   "source": [
    "ds = hhpinn.datasets.TGV2D()\n",
    "train_x, train_u = ds.load_data()"
   ]
  },
  {
   "cell_type": "code",
   "execution_count": 3,
   "id": "57dbb3f9-7efb-4e25-8d07-2807e6a0262f",
   "metadata": {},
   "outputs": [
    {
     "name": "stdout",
     "output_type": "stream",
     "text": [
      "WARNING:tensorflow:Calling GradientTape.gradient on a persistent tape inside its context is significantly less efficient than calling it outside the context (it causes the gradient ops to be recorded on the tape, leading to increased CPU and memory usage). Only call GradientTape.gradient inside the context if you actually want to trace the gradient in order to compute higher order derivatives.\n"
     ]
    },
    {
     "name": "stderr",
     "output_type": "stream",
     "text": [
      "2021-09-17 17:30:48.683264: I tensorflow/core/platform/cpu_feature_guard.cc:142] This TensorFlow binary is optimized with oneAPI Deep Neural Network Library (oneDNN) to use the following CPU instructions in performance-critical operations:  AVX2 FMA\n",
      "To enable them in other operations, rebuild TensorFlow with the appropriate compiler flags.\n"
     ]
    },
    {
     "name": "stdout",
     "output_type": "stream",
     "text": [
      "WARNING:tensorflow:Compiled the loaded model, but the compiled metrics have yet to be built. `model.compile_metrics` will be empty until you train or evaluate the model.\n",
      "INFO:tensorflow:Assets written to: _output/model-0/model/assets\n"
     ]
    },
    {
     "name": "stderr",
     "output_type": "stream",
     "text": [
      "2021-09-17 17:30:51.369624: W tensorflow/python/util/util.cc:348] Sets are not currently considered sequences, but this may change in the future, so consider avoiding using them.\n"
     ]
    },
    {
     "name": "stdout",
     "output_type": "stream",
     "text": [
      "WARNING:tensorflow:Compiled the loaded model, but the compiled metrics have yet to be built. `model.compile_metrics` will be empty until you train or evaluate the model.\n",
      "INFO:tensorflow:Assets written to: _output/model-1/model/assets\n",
      "WARNING:tensorflow:Compiled the loaded model, but the compiled metrics have yet to be built. `model.compile_metrics` will be empty until you train or evaluate the model.\n",
      "INFO:tensorflow:Assets written to: _output/model-2/model/assets\n",
      "WARNING:tensorflow:Compiled the loaded model, but the compiled metrics have yet to be built. `model.compile_metrics` will be empty until you train or evaluate the model.\n",
      "INFO:tensorflow:Assets written to: _output/model-3/model/assets\n",
      "WARNING:tensorflow:Compiled the loaded model, but the compiled metrics have yet to be built. `model.compile_metrics` will be empty until you train or evaluate the model.\n",
      "INFO:tensorflow:Assets written to: _output/model-4/model/assets\n"
     ]
    }
   ],
   "source": [
    "models: List[HodgeHelmholtzPINN] = []\n",
    "for i, c in enumerate(CONFIGS):\n",
    "    model = HodgeHelmholtzPINN(\n",
    "        hidden_layers=c,\n",
    "        epochs=1000,\n",
    "        learning_rate=0.01,\n",
    "    )\n",
    "    models.append(model)\n",
    "    model.fit(train_x, train_u)\n",
    "    savedir = RESULT_MODEL_TEMPLATE.format(i)\n",
    "    os.makedirs(savedir)\n",
    "    model.save(savedir)"
   ]
  },
  {
   "cell_type": "markdown",
   "id": "bbe8499f-7d41-449b-be60-db585fae7ca3",
   "metadata": {},
   "source": [
    "## Results"
   ]
  },
  {
   "cell_type": "code",
   "execution_count": 3,
   "id": "dba2e747-4287-4d72-8b2d-6e43f2bcbcfa",
   "metadata": {},
   "outputs": [],
   "source": [
    "args = {\"save\": True}"
   ]
  },
  {
   "cell_type": "markdown",
   "id": "f6f5708b-9e15-4e3c-898e-b530f2f86457",
   "metadata": {},
   "source": [
    "Load the results from disc:"
   ]
  },
  {
   "cell_type": "code",
   "execution_count": 5,
   "id": "a34484af-ab7d-402e-89c9-d50c1288aed4",
   "metadata": {},
   "outputs": [
    {
     "name": "stdout",
     "output_type": "stream",
     "text": [
      "WARNING:tensorflow:No training configuration found in save file, so the model was *not* compiled. Compile it manually.\n"
     ]
    },
    {
     "name": "stderr",
     "output_type": "stream",
     "text": [
      "2021-09-17 17:37:35.225643: I tensorflow/core/platform/cpu_feature_guard.cc:142] This TensorFlow binary is optimized with oneAPI Deep Neural Network Library (oneDNN) to use the following CPU instructions in performance-critical operations:  AVX2 FMA\n",
      "To enable them in other operations, rebuild TensorFlow with the appropriate compiler flags.\n"
     ]
    },
    {
     "name": "stdout",
     "output_type": "stream",
     "text": [
      "WARNING:tensorflow:No training configuration found in save file, so the model was *not* compiled. Compile it manually.\n",
      "WARNING:tensorflow:No training configuration found in save file, so the model was *not* compiled. Compile it manually.\n",
      "WARNING:tensorflow:No training configuration found in save file, so the model was *not* compiled. Compile it manually.\n",
      "WARNING:tensorflow:No training configuration found in save file, so the model was *not* compiled. Compile it manually.\n"
     ]
    }
   ],
   "source": [
    "ds = hhpinn.datasets.TGV2D()\n",
    "train_x, train_u = ds.load_data()\n",
    "\n",
    "models: List[HodgeHelmholtzPINN] = []\n",
    "for i, c in enumerate(CONFIGS):\n",
    "    m = HodgeHelmholtzPINN.load(\n",
    "        RESULT_MODEL_TEMPLATE.format(i)\n",
    "    )\n",
    "    models.append(m)"
   ]
  },
  {
   "cell_type": "code",
   "execution_count": 6,
   "id": "898280c6-a5df-4bce-9b79-70cf5f9daf6c",
   "metadata": {},
   "outputs": [
    {
     "data": {
      "image/png": "[encoded data removed]",
      "text/plain": [
       "<Figure size 432x288 with 1 Axes>"
      ]
     },
     "metadata": {
      "image/png": {
       "height": 296,
       "width": 440
      },
      "needs_background": "light"
     },
     "output_type": "display_data"
    }
   ],
   "source": [
    "styles = [\"-\", \"--\", \"o\", \"s\", \".\"]\n",
    "plt.figure()\n",
    "for i, c in enumerate(CONFIGS):\n",
    "    plt.plot(\n",
    "        range(1, len(models[i].history[\"loss\"])+1, 50),\n",
    "        models[i].history[\"loss\"][::50],\n",
    "        styles[i],\n",
    "        label=c)\n",
    "plt.xlabel(\"Epochs\")\n",
    "plt.ylabel(\"Loss\")\n",
    "plt.legend(loc=\"upper right\")\n",
    "plt.tight_layout(pad=0.3)\n",
    "\n",
    "render_figure(\n",
    "    to_file=os.path.join(\"_assets\", \"loss-history.pdf\"),\n",
    "    save=args[\"save\"]\n",
    ")"
   ]
  },
  {
   "cell_type": "code",
   "execution_count": 7,
   "id": "85394b59-a9fe-4af7-a25a-82862eb7c52b",
   "metadata": {},
   "outputs": [
    {
     "ename": "AttributeError",
     "evalue": "'HodgeHelmholtzPINN' object has no attribute 'transformer'",
     "output_type": "error",
     "traceback": [
      "\u001b[0;31m---------------------------------------------------------------------------\u001b[0m",
      "\u001b[0;31mAttributeError\u001b[0m                            Traceback (most recent call last)",
      "\u001b[0;32m/var/folders/qv/bqrbht6n6q3dhq0503j2ly_w0000gp/T/ipykernel_67764/1541135165.py\u001b[0m in \u001b[0;36m<module>\u001b[0;34m\u001b[0m\n\u001b[1;32m      3\u001b[0m \u001b[0mgrid_size\u001b[0m \u001b[0;34m=\u001b[0m \u001b[0;34m(\u001b[0m\u001b[0;36m11\u001b[0m\u001b[0;34m,\u001b[0m \u001b[0;36m11\u001b[0m\u001b[0;34m)\u001b[0m\u001b[0;34m\u001b[0m\u001b[0;34m\u001b[0m\u001b[0m\n\u001b[1;32m      4\u001b[0m \u001b[0mtest_x\u001b[0m\u001b[0;34m,\u001b[0m \u001b[0mtest_u\u001b[0m \u001b[0;34m=\u001b[0m \u001b[0mds\u001b[0m\u001b[0;34m.\u001b[0m\u001b[0mload_data_on_grid\u001b[0m\u001b[0;34m(\u001b[0m\u001b[0mgrid_size\u001b[0m\u001b[0;34m)\u001b[0m\u001b[0;34m\u001b[0m\u001b[0;34m\u001b[0m\u001b[0m\n\u001b[0;32m----> 5\u001b[0;31m \u001b[0mpred_u\u001b[0m \u001b[0;34m=\u001b[0m \u001b[0mmodel\u001b[0m\u001b[0;34m.\u001b[0m\u001b[0mpredict\u001b[0m\u001b[0;34m(\u001b[0m\u001b[0mtest_x\u001b[0m\u001b[0;34m)\u001b[0m\u001b[0;34m\u001b[0m\u001b[0;34m\u001b[0m\u001b[0m\n\u001b[0m\u001b[1;32m      6\u001b[0m \u001b[0;34m\u001b[0m\u001b[0m\n\u001b[1;32m      7\u001b[0m hhpinn.plotting.plot_stream_field_2D(\n",
      "\u001b[0;32m~/wrk/rwth10-hodge-helmholtz-pinn/tasks/03-2021-09-16-preprocessing/code/src/hhpinn/models.py\u001b[0m in \u001b[0;36mpredict\u001b[0;34m(self, x_new)\u001b[0m\n\u001b[1;32m     78\u001b[0m \u001b[0;34m\u001b[0m\u001b[0m\n\u001b[1;32m     79\u001b[0m     \u001b[0;32mdef\u001b[0m \u001b[0mpredict\u001b[0m\u001b[0;34m(\u001b[0m\u001b[0mself\u001b[0m\u001b[0;34m,\u001b[0m \u001b[0mx_new\u001b[0m\u001b[0;34m)\u001b[0m\u001b[0;34m:\u001b[0m\u001b[0;34m\u001b[0m\u001b[0;34m\u001b[0m\u001b[0m\n\u001b[0;32m---> 80\u001b[0;31m         \u001b[0mx_new_s\u001b[0m \u001b[0;34m=\u001b[0m \u001b[0mself\u001b[0m\u001b[0;34m.\u001b[0m\u001b[0mtransformer\u001b[0m\u001b[0;34m.\u001b[0m\u001b[0mtransform\u001b[0m\u001b[0;34m(\u001b[0m\u001b[0mx_new\u001b[0m\u001b[0;34m)\u001b[0m\u001b[0;34m\u001b[0m\u001b[0;34m\u001b[0m\u001b[0m\n\u001b[0m\u001b[1;32m     81\u001b[0m \u001b[0;34m\u001b[0m\u001b[0m\n\u001b[1;32m     82\u001b[0m         \u001b[0mx_var\u001b[0m \u001b[0;34m=\u001b[0m \u001b[0mtf\u001b[0m\u001b[0;34m.\u001b[0m\u001b[0mVariable\u001b[0m\u001b[0;34m(\u001b[0m\u001b[0mx_new_s\u001b[0m\u001b[0;34m,\u001b[0m \u001b[0mdtype\u001b[0m\u001b[0;34m=\u001b[0m\u001b[0mtf\u001b[0m\u001b[0;34m.\u001b[0m\u001b[0mfloat32\u001b[0m\u001b[0;34m)\u001b[0m\u001b[0;34m\u001b[0m\u001b[0;34m\u001b[0m\u001b[0m\n",
      "\u001b[0;31mAttributeError\u001b[0m: 'HodgeHelmholtzPINN' object has no attribute 'transformer'"
     ]
    }
   ],
   "source": [
    "model = models[1]\n",
    "\n",
    "grid_size = (11, 11)\n",
    "test_x, test_u = ds.load_data_on_grid(grid_size)\n",
    "pred_u = model.predict(test_x)\n",
    "\n",
    "hhpinn.plotting.plot_stream_field_2D(\n",
    "    grid_size, ds.domain, test_x, test_u\n",
    ")\n",
    "\n",
    "render_figure(\n",
    ")\n",
    "\n",
    "hhpinn.plotting.plot_stream_field_2D(\n",
    "    grid_size, ds.domain, test_x, pred_u\n",
    ")\n",
    "\n",
    "err_u = np.linalg.norm(pred_u - test_u, 2, axis=1)\n",
    "\n",
    "xg = test_x[:, 0].reshape(grid_size)\n",
    "yg = test_x[:, 1].reshape(grid_size)\n",
    "err_ug = err_u.reshape(grid_size)\n",
    "\n",
    "plt.figure()\n",
    "plt.pcolormesh(xg, yg, err_ug)\n",
    "plt.scatter(train_x[:, 0], train_x[:, 1], s=10, c=\"red\")\n",
    "plt.colorbar()\n",
    "plt.xlabel(r\"$x$\")\n",
    "plt.ylabel(r\"$y$\")\n",
    "plt.tight_layout(pad=0.1)\n",
    "\n",
    "render_figure(\n",
    "    to_file=os.path.join(\"_assets\", \"error-field.pdf\"),\n",
    "    save=args[\"save\"]\n",
    ")"
   ]
  },
  {
   "cell_type": "code",
   "execution_count": null,
   "id": "7b13d1ea-ea8f-40b8-80a7-17da69facf79",
   "metadata": {},
   "outputs": [],
   "source": []
  }
 ],
 "metadata": {
  "kernelspec": {
   "display_name": "Python 3 (ipykernel)",
   "language": "python",
   "name": "python3"
  },
  "language_info": {
   "codemirror_mode": {
    "name": "ipython",
    "version": 3
   },
   "file_extension": ".py",
   "mimetype": "text/x-python",
   "name": "python",
   "nbconvert_exporter": "python",
   "pygments_lexer": "ipython3",
   "version": "3.9.6"
  }
 },
 "nbformat": 4,
 "nbformat_minor": 5
}
